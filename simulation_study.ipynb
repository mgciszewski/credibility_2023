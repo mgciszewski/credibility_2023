{
 "cells": [
  {
   "cell_type": "code",
   "execution_count": 1,
   "id": "68e3f9d3",
   "metadata": {},
   "outputs": [],
   "source": [
    "import numpy as np\n",
    "from sklearn.linear_model import LinearRegression\n",
    "from random import gauss, uniform, shuffle\n",
    "import matplotlib.pyplot as plt"
   ]
  },
  {
   "cell_type": "code",
   "execution_count": 5,
   "id": "eadf2813",
   "metadata": {},
   "outputs": [],
   "source": [
    "from tensorflow.keras import models, layers, utils, backend as K\n",
    "from keras.callbacks import ModelCheckpoint\n",
    "import tensorflow as tf"
   ]
  },
  {
   "cell_type": "code",
   "execution_count": 2,
   "id": "0b0faf85",
   "metadata": {},
   "outputs": [],
   "source": [
    "def perm_test_loop(X, y, loops = 200):\n",
    "    og_score = LinearRegression().fit(X, y).score(X, y)\n",
    "\n",
    "    y2 = y.copy()\n",
    "    scores = []\n",
    "    for loop_idx in range(loops):\n",
    "        shuffle(y2)\n",
    "        scores.append(LinearRegression().fit(X, y2).score(X, y2))\n",
    "        \n",
    "    scores_95 = np.sort(scores)[int(loops * 0.95)]\n",
    "        \n",
    "    return scores, og_score, scores_95"
   ]
  },
  {
   "cell_type": "code",
   "execution_count": 6,
   "id": "766676e3",
   "metadata": {},
   "outputs": [],
   "source": [
    "def perm_test_loop_nn(model, X, y, loops = 100):\n",
    "    weights = model.get_weights()\n",
    "    \n",
    "    training = model.fit(X, y, epochs=100, batch_size=5, \n",
    "                         validation_split = 0, verbose = 0)\n",
    "    og_score = max(training.history['R2'])\n",
    "\n",
    "    y2 = y.copy()\n",
    "    scores = []\n",
    "    for loop_idx in range(loops):\n",
    "        model.set_weights(weights)\n",
    "        shuffle(y2)\n",
    "        training = model.fit(X, y2, epochs=100, batch_size=5, \n",
    "                             validation_split = 0, verbose = 0)\n",
    "        scores.append(max(training.history['R2']))\n",
    "        print(loop_idx)\n",
    "        \n",
    "    scores_95 = np.sort(scores)[int(loops * 0.95)]\n",
    "    \n",
    "    return scores, og_score, scores_95"
   ]
  },
  {
   "cell_type": "code",
   "execution_count": 8,
   "id": "afb48743",
   "metadata": {},
   "outputs": [],
   "source": [
    "def R2(y, y_hat):\n",
    "    ss_res = K.sum(K.square(y - y_hat)) \n",
    "    ss_tot = K.sum(K.square(y - K.mean(y))) \n",
    "    return (1 - ss_res/(ss_tot + K.epsilon()))"
   ]
  },
  {
   "cell_type": "code",
   "execution_count": 3,
   "id": "deb74c20",
   "metadata": {},
   "outputs": [],
   "source": [
    "X = []\n",
    "y_fixed = []\n",
    "for i in range(100):\n",
    "    x1 = gauss(0, 1)\n",
    "    x2 = gauss(0, 1)\n",
    "    X.append([x1, x2])\n",
    "    y_fixed.append(uniform(0, 1))\n",
    "\n",
    "scores, og_score, scores_95 = perm_test_loop(X, y_fixed)"
   ]
  },
  {
   "cell_type": "code",
   "execution_count": 4,
   "id": "d5c308f0",
   "metadata": {},
   "outputs": [
    {
     "data": {
      "image/png": "[encoded data removed]",
      "text/plain": [
       "<Figure size 432x288 with 1 Axes>"
      ]
     },
     "metadata": {
      "needs_background": "light"
     },
     "output_type": "display_data"
    }
   ],
   "source": [
    "plt.hist(scores)\n",
    "plt.axvline(og_score, c = 'r')\n",
    "plt.axvline(scores_95, c = 'g')\n",
    "plt.xlabel(r'$R^2$')\n",
    "plt.title(r'$X_1,X_2\\sim\\mathcal{N}(0,1),\\,Y\\sim U(0,1)$')\n",
    "plt.savefig('fig1.jpg', dpi = 300)"
   ]
  },
  {
   "cell_type": "code",
   "execution_count": 9,
   "id": "757b66f6",
   "metadata": {},
   "outputs": [
    {
     "name": "stdout",
     "output_type": "stream",
     "text": [
      "Model: \"sequential_1\"\n",
      "_________________________________________________________________\n",
      " Layer (type)                Output Shape              Param #   \n",
      "=================================================================\n",
      " dense_5 (Dense)             (None, 15)                45        \n",
      "                                                                 \n",
      " dense_6 (Dense)             (None, 60)                960       \n",
      "                                                                 \n",
      " dense_7 (Dense)             (None, 60)                3660      \n",
      "                                                                 \n",
      " dense_8 (Dense)             (None, 60)                3660      \n",
      "                                                                 \n",
      " dense_9 (Dense)             (None, 1)                 61        \n",
      "                                                                 \n",
      "=================================================================\n",
      "Total params: 8,386\n",
      "Trainable params: 8,386\n",
      "Non-trainable params: 0\n",
      "_________________________________________________________________\n"
     ]
    }
   ],
   "source": [
    "n_features = 2\n",
    "\n",
    "NN_model = models.Sequential()\n",
    "\n",
    "# The Input Layer :\n",
    "NN_model.add(layers.Dense(15, kernel_initializer='normal',input_dim = n_features, \n",
    "                   activation='relu'))\n",
    "\n",
    "# The Hidden Layers :\n",
    "NN_model.add(layers.Dense(60, kernel_initializer='normal',activation='relu'))\n",
    "NN_model.add(layers.Dense(60, kernel_initializer='normal',activation='relu'))\n",
    "NN_model.add(layers.Dense(60, kernel_initializer='normal',activation='relu'))\n",
    "\n",
    "# The Output Layer :\n",
    "NN_model.add(layers.Dense(1, kernel_initializer='normal',activation='linear'))\n",
    "\n",
    "# Compile the network :\n",
    "NN_model.compile(loss='mean_absolute_error', optimizer='adam', \n",
    "                 metrics=[R2])\n",
    "NN_model.summary()"
   ]
  },
  {
   "cell_type": "code",
   "execution_count": null,
   "id": "4285021c",
   "metadata": {},
   "outputs": [],
   "source": [
    "weights = NN_model.get_weights()\n",
    "X = []\n",
    "y_fixed = []\n",
    "for i in range(100):\n",
    "    x1 = gauss(1, 1)\n",
    "    x2 = gauss(0, 1)\n",
    "    X.append([x1, x2])\n",
    "    y_fixed.append(uniform(0, 1))\n",
    "\n",
    "scores, og_score, scores_95 = perm_test_loop_nn(NN_model, X, y_fixed)\n",
    "\n",
    "NN_model.set_weights(weights)"
   ]
  },
  {
   "cell_type": "code",
   "execution_count": null,
   "id": "245a1d65",
   "metadata": {},
   "outputs": [],
   "source": [
    "plt.hist(scores)\n",
    "plt.axvline(og_score, c = 'r')\n",
    "plt.axvline(scores_95, c = 'g')\n",
    "plt.xlabel(r'$R^2$')\n",
    "plt.title(r'$X_1,X_2\\sim\\mathcal{N}(0,1),\\,Y\\sim U(0,1)$')\n",
    "plt.savefig('fig2.jpg', dpi = 300)"
   ]
  },
  {
   "cell_type": "code",
   "execution_count": null,
   "id": "71518f0b",
   "metadata": {},
   "outputs": [],
   "source": [
    "X = []\n",
    "y_fixed = []\n",
    "for i in range(100):\n",
    "    x1 = gauss(1, 1)\n",
    "    x2 = gauss(0, 1)\n",
    "    X.append([x1, x2])\n",
    "    eps = gauss(0, 1)\n",
    "    y_fixed.append(np.log(np.abs(x1)) + x2 ** 2 + eps)\n",
    "\n",
    "scores, og_score, scores_95 = perm_test_loop(X, y_fixed)"
   ]
  },
  {
   "cell_type": "code",
   "execution_count": null,
   "id": "e4f0598f",
   "metadata": {},
   "outputs": [],
   "source": [
    "plt.hist(scores)\n",
    "plt.axvline(og_score, c = 'r')\n",
    "plt.axvline(scores_95, c = 'g')\n",
    "plt.xlabel(r'$R^2$')\n",
    "plt.title(r'$X_1\\sim\\mathcal{N}(1,1),\\,X_2\\sim\\mathcal{N}(0,1),\\,Y=log|X_1|+X_2^2+\\epsilon$')\n",
    "plt.savefig('fig3.jpg', dpi = 300)"
   ]
  },
  {
   "cell_type": "code",
   "execution_count": null,
   "id": "789817ea",
   "metadata": {},
   "outputs": [],
   "source": [
    "weights = NN_model.get_weights()\n",
    "X = []\n",
    "y_fixed = []\n",
    "for i in range(100):\n",
    "    x1 = gauss(1, 1)\n",
    "    x2 = gauss(0, 1)\n",
    "    X.append([x1, x2])\n",
    "    eps = gauss(0, 1)\n",
    "    y_fixed.append(np.log(np.abs(x1)) + x2 ** 2 + eps)\n",
    "\n",
    "scores, og_score, scores_95 = perm_test_loop_nn(NN_model, X, y_fixed)\n",
    "\n",
    "NN_model.set_weights(weights)"
   ]
  },
  {
   "cell_type": "code",
   "execution_count": null,
   "id": "e8c6586b",
   "metadata": {},
   "outputs": [],
   "source": [
    "plt.hist(scores)\n",
    "plt.axvline(og_score, c = 'r')\n",
    "plt.axvline(scores_95, c = 'g')\n",
    "plt.xlabel(r'$R^2$')\n",
    "plt.title(r'$X_1\\sim\\mathcal{N}(1,1),\\,X_2\\sim\\mathcal{N}(0,1),\\,Y=log|X_1|+X_2^2+\\epsilon$')\n",
    "plt.savefig('fig4.jpg', dpi = 300)"
   ]
  },
  {
   "cell_type": "code",
   "execution_count": 11,
   "id": "0f629c63",
   "metadata": {},
   "outputs": [],
   "source": [
    "og_score_table = []\n",
    "scores_95_table = []\n",
    "a_range = np.sort(np.concatenate((np.arange(1, 10, 0.1), \n",
    "                                  np.arange(0, 1, 0.001))))\n",
    "\n",
    "for a in a_range:\n",
    "    X = []\n",
    "    y_fixed = []\n",
    "    for i in range(100):\n",
    "        x1 = gauss(a, 1)\n",
    "        x2 = gauss(0, 0.1)\n",
    "        X.append([x1, x2])\n",
    "        eps = gauss(0, 0.1)\n",
    "        y_fixed.append(np.log(np.abs(x1)) + x2 ** 2 + eps)\n",
    "\n",
    "    model = LinearRegression()\n",
    "    scores, og_score, scores_95 = perm_test_loop(X, y_fixed)\n",
    "    og_score_table.append(og_score)\n",
    "    scores_95_table.append(scores_95)"
   ]
  },
  {
   "cell_type": "code",
   "execution_count": 12,
   "id": "e25f8e0c",
   "metadata": {},
   "outputs": [
    {
     "data": {
      "image/png": "[encoded data removed]",
      "text/plain": [
       "<Figure size 432x288 with 1 Axes>"
      ]
     },
     "metadata": {
      "needs_background": "light"
     },
     "output_type": "display_data"
    }
   ],
   "source": [
    "plt.plot(a_range, og_score_table, '.')\n",
    "plt.plot(a_range, scores_95_table, '.')\n",
    "plt.title(r'$X_1\\sim N(a,1),\\,X_2\\sim N(0, 0.1),\\,Y = \\log|X_1| + X_2^2 + \\epsilon$')\n",
    "plt.xlabel(r'$a$')\n",
    "plt.ylabel(r'$R^2$')\n",
    "plt.savefig('fig5.jpg', dpi = 300)\n",
    "plt.show()"
   ]
  },
  {
   "cell_type": "code",
   "execution_count": null,
   "id": "de8068a4",
   "metadata": {},
   "outputs": [],
   "source": [
    "og_score_table = []\n",
    "scores_95_table = []\n",
    "\n",
    "a_range = np.arange(0, 10, 0.01)\n",
    "\n",
    "for a in a_range:\n",
    "    X = []\n",
    "    y_fixed = []\n",
    "    for i in range(100):\n",
    "        x1 = gauss(a, 1)\n",
    "        x2 = gauss(0, 0.5)\n",
    "        X.append([x1, x2])\n",
    "        eps = gauss(0, 0.1)\n",
    "        y_fixed.append(np.log(np.abs(x1)) + x2 ** 2 + eps)\n",
    "\n",
    "    model = LinearRegression()\n",
    "    scores, og_score, scores_95 = perm_test_loop(X, y_fixed)\n",
    "    og_score_table.append(og_score)\n",
    "    scores_95_table.append(scores_95)"
   ]
  },
  {
   "cell_type": "code",
   "execution_count": null,
   "id": "b1b965cf",
   "metadata": {},
   "outputs": [],
   "source": [
    "plt.plot(a_range, og_score_table, '.')\n",
    "plt.plot(a_range, scores_95_table, '.')\n",
    "plt.title(r'$X_1\\sim N(a,1),\\,X_2\\sim N(0, 0.5),\\,Y = \\log|X_1| + X_2^2 + \\epsilon$')\n",
    "plt.xlabel(r'$a$')\n",
    "plt.ylabel(r'$R^2$')\n",
    "plt.savefig('fig6.jpg', dpi = 300)\n",
    "plt.show()"
   ]
  },
  {
   "cell_type": "code",
   "execution_count": null,
   "id": "970dd283",
   "metadata": {},
   "outputs": [],
   "source": [
    "og_score_table = []\n",
    "scores_95_table = []\n",
    "eps_range = np.arange(0, 1, 0.001)\n",
    "\n",
    "mean = [0, 0]\n",
    "\n",
    "for eps in eps_range:\n",
    "    cov = [[1, eps], [eps, 1]]\n",
    "    X, y = np.random.multivariate_normal(mean, cov, 100).T\n",
    "\n",
    "    model = LinearRegression()\n",
    "    scores, og_score, scores_95 = perm_test_loop([[x] for x in X], y)\n",
    "    og_score_table.append(og_score)\n",
    "    scores_95_table.append(scores_95)"
   ]
  },
  {
   "cell_type": "code",
   "execution_count": null,
   "id": "9f6192de",
   "metadata": {},
   "outputs": [],
   "source": [
    "plt.plot(eps_range, og_score_table, '.')\n",
    "plt.plot(eps_range, scores_95_table, '.')\n",
    "plt.title(r'$X,Y = N([0, 0],[[1,\\epsilon], [\\epsilon, 1]])$')\n",
    "plt.xlabel(r'$\\epsilon$')\n",
    "plt.ylabel(r'$R^2$')\n",
    "plt.savefig('fig7.jpg', dpi = 300)\n",
    "plt.show()"
   ]
  },
  {
   "cell_type": "code",
   "execution_count": null,
   "id": "2d5898cd",
   "metadata": {},
   "outputs": [],
   "source": [
    "og_score_table = []\n",
    "scores_95_table = []\n",
    "eps_range = np.sort(np.concatenate((np.arange(10, 100, 10), \n",
    "                                    np.arange(100,1000,10))))\n",
    "\n",
    "mean = [0, 0]\n",
    "cov = [[1, 0], [0, 1]]\n",
    "\n",
    "for eps in eps_range:\n",
    "    X, y = np.random.multivariate_normal(mean, cov, eps).T\n",
    "\n",
    "    model = LinearRegression()\n",
    "    scores, og_score, scores_95 = perm_test_loop([[x] for x in X], y)\n",
    "    og_score_table.append(og_score)\n",
    "    scores_95_table.append(scores_95)"
   ]
  },
  {
   "cell_type": "code",
   "execution_count": null,
   "id": "960d535f",
   "metadata": {},
   "outputs": [],
   "source": [
    "plt.plot(eps_range, og_score_table, '.')\n",
    "plt.plot(eps_range, scores_95_table, '.')\n",
    "plt.title(r'$X, Y = N([0, 0], [[1,0], [0, 1]])$')\n",
    "plt.xlabel(r'sample size')\n",
    "plt.ylabel(r'$R^2$')\n",
    "plt.savefig('fig8.jpg', dpi = 300)\n",
    "plt.show()"
   ]
  },
  {
   "cell_type": "code",
   "execution_count": null,
   "id": "82aeb903",
   "metadata": {},
   "outputs": [],
   "source": [
    "og_score_table = []\n",
    "scores_95_table = []\n",
    "eps_range = np.arange(10, 1000, 10)\n",
    "\n",
    "mean = [0, 0]\n",
    "cov = [[1, 0], [0, 1]]\n",
    "\n",
    "for eps in eps_range:\n",
    "    X = np.random.normal(10, 1, eps)\n",
    "    y = np.log(X) + np.random.normal(0, 1, eps)\n",
    "\n",
    "    model = LinearRegression()\n",
    "    scores, og_score, scores_95 = perm_test_loop([[x] for x in X], y)\n",
    "    og_score_table.append(og_score)\n",
    "    scores_95_table.append(scores_95)"
   ]
  },
  {
   "cell_type": "code",
   "execution_count": null,
   "id": "1780678a",
   "metadata": {},
   "outputs": [],
   "source": [
    "plt.plot(eps_range, og_score_table, '.')\n",
    "plt.plot(eps_range, scores_95_table, '.')\n",
    "plt.title(r'$X\\sim N(10, 1), Y = \\log(X) + \\epsilon, \\epsilon\\sim N(0, 1)$')\n",
    "plt.xlabel(r'sample size')\n",
    "plt.ylabel(r'$R^2$')\n",
    "plt.savefig('fig9.jpg', dpi = 300)\n",
    "plt.show()"
   ]
  }
 ],
 "metadata": {
  "kernelspec": {
   "display_name": "Python 3 (ipykernel)",
   "language": "python",
   "name": "python3"
  },
  "language_info": {
   "codemirror_mode": {
    "name": "ipython",
    "version": 3
   },
   "file_extension": ".py",
   "mimetype": "text/x-python",
   "name": "python",
   "nbconvert_exporter": "python",
   "pygments_lexer": "ipython3",
   "version": "3.9.7"
  }
 },
 "nbformat": 4,
 "nbformat_minor": 5
}
